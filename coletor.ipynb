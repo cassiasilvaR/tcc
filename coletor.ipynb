{
 "cells": [
  {
   "cell_type": "code",
   "execution_count": 1,
   "id": "649adc09",
   "metadata": {},
   "outputs": [],
   "source": [
    "import tweepy as tw\n",
    "import pandas as pd\n",
    "import pickle as pc\n",
    "import time as t"
   ]
  },
  {
   "cell_type": "code",
   "execution_count": 2,
   "id": "5c4b4b48",
   "metadata": {},
   "outputs": [],
   "source": [
    "consumer_key = \"HxQUJL37jLt5rF8IJc80DygqE\"\n",
    "consumer_secret = \"sPPZ3ovORsI3kwCYGIjh0qSYMuwlbMGf03bVB5l2u2wEF6B8iy\"\n",
    "access_token = \"1133541782166360064-ycd4pjKH0JYb1UYVTfxURDdtNAMN3y\"\n",
    "access_token_secret = \"diEDlFwuiPlhWac0oZ5cPPZBq0K60FVUJU9iYCfQfTxxq\""
   ]
  },
  {
   "cell_type": "code",
   "execution_count": 3,
   "id": "eea1a6b8",
   "metadata": {},
   "outputs": [],
   "source": [
    "auth = tw.OAuthHandler(consumer_key, consumer_secret)\n",
    "auth.set_access_token(access_token, access_token_secret)\n",
    "\n",
    "api = tw.API(auth)\n",
    "\n",
    "public_tweets = api.home_timeline()"
   ]
  },
  {
   "cell_type": "code",
   "execution_count": 25,
   "id": "9b487714",
   "metadata": {},
   "outputs": [
    {
     "name": "stdout",
     "output_type": "stream",
     "text": [
      "O YouTube vai disponibilizar filmes e séries de 35 serviços de streaming em um único hub. Por enquanto, o serviço s… https://t.co/zi9hfS6NOg\n",
      "manifestantes deitados na pista levantam por conta do gás de pimenta\n",
      "Tem uns memes que a gente desconfia. https://t.co/t7OXjtlPxc\n",
      "RT @Daisi69103922: Vamos tornar esses “cidadãos” bem famosos 👇🏾 https://t.co/eBBzjoPyTw\n",
      "Emocionadíssima que vou jantar acarajé hoje 🥺😭 https://t.co/9XEEWZfGep\n",
      "o choque avançando e os bozos botando o hino nacional alto e correndo\n",
      "RT @LoboMauro73: https://t.co/WSPsIZU3i3\n",
      "RT @guilherme_amado: Zambelli, Nikolas e Silveira incitam golpe de Estado https://t.co/u6Qy4g7tHV\n",
      "RT @petitemandie: se tivesse legalizado o bingo a gente nao tava nessa situacao\n",
      "RT @joana_varon: Finalmente! https://t.co/0H8YancUrn\n",
      "O Twitter da Zambeli saiu do ar, será que ela está na prisão?\n",
      "o pronunciamento foi que nem aquelas reuniões que um email resolveria\n",
      "RT @LanesThiago: - Não reconheceu a Derrota\n",
      "- Não deu Parabéns ao seu adversário\n",
      "- não reconhece a soberania e a democracia do seu país\n",
      "- N…\n",
      "RT @inespedrosa_pt: Aviso aos bolsonaristas que estejam a fazer as malas: em Portugal aborto e casamento gay são legais, a escola ensina ig…\n",
      "“então meus netos, aí os bolsonaristas ficaram revoltados com o resultado das eleições e tentaram dar um golpe bloq… https://t.co/tDACA7nROu\n",
      "RT @AndreiaSadi: Contei no @estudioi ontem que: centrão tá tão no barco de Lula já que, p/ fazer ‘gesto de boas vindas’ para novo governo,…\n",
      "Ir no bar ou não ? Eis a questão\n",
      "RT @RachelSherazade: Mau militar\n",
      "Mau parlamentar \n",
      "Mau presidente \n",
      "Mau perdedor \n",
      "Resumindo: frouxo!\n",
      "Eu chamo isso de magica rs \n",
      "Teste de paciencia https://t.co/rATdeltpYu\n"
     ]
    }
   ],
   "source": [
    "for tweet in public_tweets:\n",
    "    print(tweet.text)"
   ]
  },
  {
   "cell_type": "markdown",
   "id": "6a88ac5b",
   "metadata": {},
   "source": [
    "# Criando dicionário"
   ]
  },
  {
   "cell_type": "code",
   "execution_count": 7,
   "id": "4051a409",
   "metadata": {},
   "outputs": [],
   "source": [
    "twkeys = tweet._json.keys()\n",
    "tweets_dict = {}\n",
    "tweets_dict = tweets_dict.fromkeys(['created_at', 'id', 'id_str', 'text', 'truncated', 'entities', 'metadata', 'source', 'in_reply_to_status_id', 'in_reply_to_status_id_str', 'in_reply_to_user_id', 'in_reply_to_user_id_str', 'in_reply_to_screen_name', 'user', 'geo', 'coordinates', 'place', 'contributors', 'is_quote_status', 'retweet_count', 'favorite_count', 'favorited', 'retweeted'])"
   ]
  },
  {
   "cell_type": "code",
   "execution_count": 4,
   "id": "5b82cf48",
   "metadata": {},
   "outputs": [],
   "source": [
    "query_search= \"eleicoes2022\"  + \" -filter:retweets\" \n",
    "cursor_tweets = tw.Cursor(api.search_tweets,\n",
    "                          q=query_search, lang='pt').items(50000)"
   ]
  },
  {
   "cell_type": "markdown",
   "id": "28f67dc7",
   "metadata": {},
   "source": [
    "# Mapeando tweets"
   ]
  },
  {
   "cell_type": "code",
   "execution_count": 8,
   "id": "9b00a989",
   "metadata": {},
   "outputs": [
    {
     "ename": "TooManyRequests",
     "evalue": "429 Too Many Requests\n88 - Rate limit exceeded",
     "output_type": "error",
     "traceback": [
      "\u001b[1;31m---------------------------------------------------------------------------\u001b[0m",
      "\u001b[1;31mTooManyRequests\u001b[0m                           Traceback (most recent call last)",
      "\u001b[1;32mc:\\Users\\cassi\\OneDrive\\Documentos\\2022-2\\TCC\\myscrapper\\teste_coletor.ipynb Célula: 9\u001b[0m in \u001b[0;36m<cell line: 1>\u001b[1;34m()\u001b[0m\n\u001b[1;32m----> <a href='vscode-notebook-cell:/c%3A/Users/cassi/OneDrive/Documentos/2022-2/TCC/myscrapper/teste_coletor.ipynb#X11sZmlsZQ%3D%3D?line=0'>1</a>\u001b[0m \u001b[39mfor\u001b[39;00m tweet \u001b[39min\u001b[39;00m cursor_tweets:\n\u001b[0;32m      <a href='vscode-notebook-cell:/c%3A/Users/cassi/OneDrive/Documentos/2022-2/TCC/myscrapper/teste_coletor.ipynb#X11sZmlsZQ%3D%3D?line=1'>2</a>\u001b[0m     \u001b[39mfor\u001b[39;00m key \u001b[39min\u001b[39;00m tweets_dict\u001b[39m.\u001b[39mkeys():\n\u001b[0;32m      <a href='vscode-notebook-cell:/c%3A/Users/cassi/OneDrive/Documentos/2022-2/TCC/myscrapper/teste_coletor.ipynb#X11sZmlsZQ%3D%3D?line=2'>3</a>\u001b[0m         \u001b[39mtry\u001b[39;00m:\n",
      "File \u001b[1;32m~\\AppData\\Local\\Packages\\PythonSoftwareFoundation.Python.3.10_qbz5n2kfra8p0\\LocalCache\\local-packages\\Python310\\site-packages\\tweepy\\cursor.py:86\u001b[0m, in \u001b[0;36mBaseIterator.__next__\u001b[1;34m(self)\u001b[0m\n\u001b[0;32m     85\u001b[0m \u001b[39mdef\u001b[39;00m \u001b[39m__next__\u001b[39m(\u001b[39mself\u001b[39m):\n\u001b[1;32m---> 86\u001b[0m     \u001b[39mreturn\u001b[39;00m \u001b[39mself\u001b[39;49m\u001b[39m.\u001b[39;49mnext()\n",
      "File \u001b[1;32m~\\AppData\\Local\\Packages\\PythonSoftwareFoundation.Python.3.10_qbz5n2kfra8p0\\LocalCache\\local-packages\\Python310\\site-packages\\tweepy\\cursor.py:286\u001b[0m, in \u001b[0;36mItemIterator.next\u001b[1;34m(self)\u001b[0m\n\u001b[0;32m    283\u001b[0m     \u001b[39mraise\u001b[39;00m \u001b[39mStopIteration\u001b[39;00m\n\u001b[0;32m    284\u001b[0m \u001b[39mif\u001b[39;00m \u001b[39mself\u001b[39m\u001b[39m.\u001b[39mcurrent_page \u001b[39mis\u001b[39;00m \u001b[39mNone\u001b[39;00m \u001b[39mor\u001b[39;00m \u001b[39mself\u001b[39m\u001b[39m.\u001b[39mpage_index \u001b[39m==\u001b[39m \u001b[39mlen\u001b[39m(\u001b[39mself\u001b[39m\u001b[39m.\u001b[39mcurrent_page) \u001b[39m-\u001b[39m \u001b[39m1\u001b[39m:\n\u001b[0;32m    285\u001b[0m     \u001b[39m# Reached end of current page, get the next page...\u001b[39;00m\n\u001b[1;32m--> 286\u001b[0m     \u001b[39mself\u001b[39m\u001b[39m.\u001b[39mcurrent_page \u001b[39m=\u001b[39m \u001b[39mnext\u001b[39;49m(\u001b[39mself\u001b[39;49m\u001b[39m.\u001b[39;49mpage_iterator)\n\u001b[0;32m    287\u001b[0m     \u001b[39mwhile\u001b[39;00m \u001b[39mlen\u001b[39m(\u001b[39mself\u001b[39m\u001b[39m.\u001b[39mcurrent_page) \u001b[39m==\u001b[39m \u001b[39m0\u001b[39m:\n\u001b[0;32m    288\u001b[0m         \u001b[39mself\u001b[39m\u001b[39m.\u001b[39mcurrent_page \u001b[39m=\u001b[39m \u001b[39mnext\u001b[39m(\u001b[39mself\u001b[39m\u001b[39m.\u001b[39mpage_iterator)\n",
      "File \u001b[1;32m~\\AppData\\Local\\Packages\\PythonSoftwareFoundation.Python.3.10_qbz5n2kfra8p0\\LocalCache\\local-packages\\Python310\\site-packages\\tweepy\\cursor.py:86\u001b[0m, in \u001b[0;36mBaseIterator.__next__\u001b[1;34m(self)\u001b[0m\n\u001b[0;32m     85\u001b[0m \u001b[39mdef\u001b[39;00m \u001b[39m__next__\u001b[39m(\u001b[39mself\u001b[39m):\n\u001b[1;32m---> 86\u001b[0m     \u001b[39mreturn\u001b[39;00m \u001b[39mself\u001b[39;49m\u001b[39m.\u001b[39;49mnext()\n",
      "File \u001b[1;32m~\\AppData\\Local\\Packages\\PythonSoftwareFoundation.Python.3.10_qbz5n2kfra8p0\\LocalCache\\local-packages\\Python310\\site-packages\\tweepy\\cursor.py:167\u001b[0m, in \u001b[0;36mIdIterator.next\u001b[1;34m(self)\u001b[0m\n\u001b[0;32m    164\u001b[0m     \u001b[39mraise\u001b[39;00m \u001b[39mStopIteration\u001b[39;00m\n\u001b[0;32m    166\u001b[0m \u001b[39mif\u001b[39;00m \u001b[39mself\u001b[39m\u001b[39m.\u001b[39mindex \u001b[39m>\u001b[39m\u001b[39m=\u001b[39m \u001b[39mlen\u001b[39m(\u001b[39mself\u001b[39m\u001b[39m.\u001b[39mresults) \u001b[39m-\u001b[39m \u001b[39m1\u001b[39m:\n\u001b[1;32m--> 167\u001b[0m     data \u001b[39m=\u001b[39m \u001b[39mself\u001b[39m\u001b[39m.\u001b[39mmethod(max_id\u001b[39m=\u001b[39m\u001b[39mself\u001b[39m\u001b[39m.\u001b[39mmax_id, parser\u001b[39m=\u001b[39mRawParser(), \u001b[39m*\u001b[39m\u001b[39mself\u001b[39m\u001b[39m.\u001b[39margs, \u001b[39m*\u001b[39m\u001b[39m*\u001b[39m\u001b[39mself\u001b[39m\u001b[39m.\u001b[39mkwargs)\n\u001b[0;32m    169\u001b[0m     model \u001b[39m=\u001b[39m ModelParser()\u001b[39m.\u001b[39mparse(\n\u001b[0;32m    170\u001b[0m         data, api \u001b[39m=\u001b[39m \u001b[39mself\u001b[39m\u001b[39m.\u001b[39mmethod\u001b[39m.\u001b[39m\u001b[39m__self__\u001b[39m,\n\u001b[0;32m    171\u001b[0m         payload_list\u001b[39m=\u001b[39m\u001b[39mself\u001b[39m\u001b[39m.\u001b[39mmethod\u001b[39m.\u001b[39mpayload_list,\n\u001b[0;32m    172\u001b[0m         payload_type\u001b[39m=\u001b[39m\u001b[39mself\u001b[39m\u001b[39m.\u001b[39mmethod\u001b[39m.\u001b[39mpayload_type\n\u001b[0;32m    173\u001b[0m     )\n\u001b[0;32m    174\u001b[0m     result \u001b[39m=\u001b[39m \u001b[39mself\u001b[39m\u001b[39m.\u001b[39mmethod\u001b[39m.\u001b[39m\u001b[39m__self__\u001b[39m\u001b[39m.\u001b[39mparser\u001b[39m.\u001b[39mparse(\n\u001b[0;32m    175\u001b[0m         data, api \u001b[39m=\u001b[39m \u001b[39mself\u001b[39m\u001b[39m.\u001b[39mmethod\u001b[39m.\u001b[39m\u001b[39m__self__\u001b[39m,\n\u001b[0;32m    176\u001b[0m         payload_list\u001b[39m=\u001b[39m\u001b[39mself\u001b[39m\u001b[39m.\u001b[39mmethod\u001b[39m.\u001b[39mpayload_list,\n\u001b[0;32m    177\u001b[0m         payload_type\u001b[39m=\u001b[39m\u001b[39mself\u001b[39m\u001b[39m.\u001b[39mmethod\u001b[39m.\u001b[39mpayload_type\n\u001b[0;32m    178\u001b[0m     )\n",
      "File \u001b[1;32m~\\AppData\\Local\\Packages\\PythonSoftwareFoundation.Python.3.10_qbz5n2kfra8p0\\LocalCache\\local-packages\\Python310\\site-packages\\tweepy\\api.py:33\u001b[0m, in \u001b[0;36mpagination.<locals>.decorator.<locals>.wrapper\u001b[1;34m(*args, **kwargs)\u001b[0m\n\u001b[0;32m     31\u001b[0m \u001b[39m@functools\u001b[39m\u001b[39m.\u001b[39mwraps(method)\n\u001b[0;32m     32\u001b[0m \u001b[39mdef\u001b[39;00m \u001b[39mwrapper\u001b[39m(\u001b[39m*\u001b[39margs, \u001b[39m*\u001b[39m\u001b[39m*\u001b[39mkwargs):\n\u001b[1;32m---> 33\u001b[0m     \u001b[39mreturn\u001b[39;00m method(\u001b[39m*\u001b[39margs, \u001b[39m*\u001b[39m\u001b[39m*\u001b[39mkwargs)\n",
      "File \u001b[1;32m~\\AppData\\Local\\Packages\\PythonSoftwareFoundation.Python.3.10_qbz5n2kfra8p0\\LocalCache\\local-packages\\Python310\\site-packages\\tweepy\\api.py:46\u001b[0m, in \u001b[0;36mpayload.<locals>.decorator.<locals>.wrapper\u001b[1;34m(*args, **kwargs)\u001b[0m\n\u001b[0;32m     44\u001b[0m kwargs[\u001b[39m'\u001b[39m\u001b[39mpayload_list\u001b[39m\u001b[39m'\u001b[39m] \u001b[39m=\u001b[39m payload_list\n\u001b[0;32m     45\u001b[0m kwargs[\u001b[39m'\u001b[39m\u001b[39mpayload_type\u001b[39m\u001b[39m'\u001b[39m] \u001b[39m=\u001b[39m payload_type\n\u001b[1;32m---> 46\u001b[0m \u001b[39mreturn\u001b[39;00m method(\u001b[39m*\u001b[39margs, \u001b[39m*\u001b[39m\u001b[39m*\u001b[39mkwargs)\n",
      "File \u001b[1;32m~\\AppData\\Local\\Packages\\PythonSoftwareFoundation.Python.3.10_qbz5n2kfra8p0\\LocalCache\\local-packages\\Python310\\site-packages\\tweepy\\api.py:1303\u001b[0m, in \u001b[0;36mAPI.search_tweets\u001b[1;34m(self, q, **kwargs)\u001b[0m\n\u001b[0;32m   1209\u001b[0m \u001b[39m@pagination\u001b[39m(mode\u001b[39m=\u001b[39m\u001b[39m'\u001b[39m\u001b[39mid\u001b[39m\u001b[39m'\u001b[39m)\n\u001b[0;32m   1210\u001b[0m \u001b[39m@payload\u001b[39m(\u001b[39m'\u001b[39m\u001b[39msearch_results\u001b[39m\u001b[39m'\u001b[39m)\n\u001b[0;32m   1211\u001b[0m \u001b[39mdef\u001b[39;00m \u001b[39msearch_tweets\u001b[39m(\u001b[39mself\u001b[39m, q, \u001b[39m*\u001b[39m\u001b[39m*\u001b[39mkwargs):\n\u001b[0;32m   1212\u001b[0m     \u001b[39m\"\"\"search_tweets(q, *, geocode, lang, locale, result_type, count, \\\u001b[39;00m\n\u001b[0;32m   1213\u001b[0m \u001b[39m                     until, since_id, max_id, include_entities)\u001b[39;00m\n\u001b[0;32m   1214\u001b[0m \n\u001b[1;32m   (...)\u001b[0m\n\u001b[0;32m   1301\u001b[0m \u001b[39m    .. _Twitter's documentation on the standard search API: https://developer.twitter.com/en/docs/twitter-api/v1/tweets/search/overview\u001b[39;00m\n\u001b[0;32m   1302\u001b[0m \u001b[39m    \"\"\"\u001b[39;00m\n\u001b[1;32m-> 1303\u001b[0m     \u001b[39mreturn\u001b[39;00m \u001b[39mself\u001b[39m\u001b[39m.\u001b[39mrequest(\n\u001b[0;32m   1304\u001b[0m         \u001b[39m'\u001b[39m\u001b[39mGET\u001b[39m\u001b[39m'\u001b[39m, \u001b[39m'\u001b[39m\u001b[39msearch/tweets\u001b[39m\u001b[39m'\u001b[39m, endpoint_parameters\u001b[39m=\u001b[39m(\n\u001b[0;32m   1305\u001b[0m             \u001b[39m'\u001b[39m\u001b[39mq\u001b[39m\u001b[39m'\u001b[39m, \u001b[39m'\u001b[39m\u001b[39mgeocode\u001b[39m\u001b[39m'\u001b[39m, \u001b[39m'\u001b[39m\u001b[39mlang\u001b[39m\u001b[39m'\u001b[39m, \u001b[39m'\u001b[39m\u001b[39mlocale\u001b[39m\u001b[39m'\u001b[39m, \u001b[39m'\u001b[39m\u001b[39mresult_type\u001b[39m\u001b[39m'\u001b[39m, \u001b[39m'\u001b[39m\u001b[39mcount\u001b[39m\u001b[39m'\u001b[39m,\n\u001b[0;32m   1306\u001b[0m             \u001b[39m'\u001b[39m\u001b[39muntil\u001b[39m\u001b[39m'\u001b[39m, \u001b[39m'\u001b[39m\u001b[39msince_id\u001b[39m\u001b[39m'\u001b[39m, \u001b[39m'\u001b[39m\u001b[39mmax_id\u001b[39m\u001b[39m'\u001b[39m, \u001b[39m'\u001b[39m\u001b[39minclude_entities\u001b[39m\u001b[39m'\u001b[39m\n\u001b[0;32m   1307\u001b[0m         ), q\u001b[39m=\u001b[39mq, \u001b[39m*\u001b[39m\u001b[39m*\u001b[39mkwargs\n\u001b[0;32m   1308\u001b[0m     )\n",
      "File \u001b[1;32m~\\AppData\\Local\\Packages\\PythonSoftwareFoundation.Python.3.10_qbz5n2kfra8p0\\LocalCache\\local-packages\\Python310\\site-packages\\tweepy\\api.py:263\u001b[0m, in \u001b[0;36mAPI.request\u001b[1;34m(self, method, endpoint, endpoint_parameters, params, headers, json_payload, parser, payload_list, payload_type, post_data, files, require_auth, return_cursors, upload_api, use_cache, **kwargs)\u001b[0m\n\u001b[0;32m    261\u001b[0m     \u001b[39mraise\u001b[39;00m NotFound(resp)\n\u001b[0;32m    262\u001b[0m \u001b[39mif\u001b[39;00m resp\u001b[39m.\u001b[39mstatus_code \u001b[39m==\u001b[39m \u001b[39m429\u001b[39m:\n\u001b[1;32m--> 263\u001b[0m     \u001b[39mraise\u001b[39;00m TooManyRequests(resp)\n\u001b[0;32m    264\u001b[0m \u001b[39mif\u001b[39;00m resp\u001b[39m.\u001b[39mstatus_code \u001b[39m>\u001b[39m\u001b[39m=\u001b[39m \u001b[39m500\u001b[39m:\n\u001b[0;32m    265\u001b[0m     \u001b[39mraise\u001b[39;00m TwitterServerError(resp)\n",
      "\u001b[1;31mTooManyRequests\u001b[0m: 429 Too Many Requests\n88 - Rate limit exceeded"
     ]
    }
   ],
   "source": [
    "for tweet in cursor_tweets:\n",
    "    for key in tweets_dict.keys():\n",
    "        try:\n",
    "            twvalue = tweet._json[key]\n",
    "            tweets_dict[key].append(twvalue)\n",
    "        except KeyError:\n",
    "            twvalue = \"\"\n",
    "            if(tweets_dict[key] is None):\n",
    "                tweets_dict[key] = [twvalue]\n",
    "            else:\n",
    "                tweets_dict[key].append(twvalue)\n",
    "        except:\n",
    "            tweets_dict[key] = [twvalue]\n",
    "        #print(\"tweets_dict[key]: {} - tweet[key]: {}\".format(tweets_dict[key],  twvalue))\n",
    "            "
   ]
  },
  {
   "cell_type": "code",
   "execution_count": 9,
   "id": "f827c869",
   "metadata": {},
   "outputs": [
    {
     "data": {
      "text/html": [
       "<div>\n",
       "<style scoped>\n",
       "    .dataframe tbody tr th:only-of-type {\n",
       "        vertical-align: middle;\n",
       "    }\n",
       "\n",
       "    .dataframe tbody tr th {\n",
       "        vertical-align: top;\n",
       "    }\n",
       "\n",
       "    .dataframe thead th {\n",
       "        text-align: right;\n",
       "    }\n",
       "</style>\n",
       "<table border=\"1\" class=\"dataframe\">\n",
       "  <thead>\n",
       "    <tr style=\"text-align: right;\">\n",
       "      <th></th>\n",
       "      <th>created_at</th>\n",
       "      <th>id</th>\n",
       "      <th>id_str</th>\n",
       "      <th>text</th>\n",
       "      <th>truncated</th>\n",
       "      <th>entities</th>\n",
       "      <th>metadata</th>\n",
       "      <th>source</th>\n",
       "      <th>in_reply_to_status_id</th>\n",
       "      <th>in_reply_to_status_id_str</th>\n",
       "      <th>...</th>\n",
       "      <th>user</th>\n",
       "      <th>geo</th>\n",
       "      <th>coordinates</th>\n",
       "      <th>place</th>\n",
       "      <th>contributors</th>\n",
       "      <th>is_quote_status</th>\n",
       "      <th>retweet_count</th>\n",
       "      <th>favorite_count</th>\n",
       "      <th>favorited</th>\n",
       "      <th>retweeted</th>\n",
       "    </tr>\n",
       "  </thead>\n",
       "  <tbody>\n",
       "    <tr>\n",
       "      <th>0</th>\n",
       "      <td>Sat Nov 05 00:07:05 +0000 2022</td>\n",
       "      <td>1588684289268682752</td>\n",
       "      <td>1588684289268682752</td>\n",
       "      <td>O ritmo dessa sexta já sabe né?\\nTango!\\n\\n#Br...</td>\n",
       "      <td>False</td>\n",
       "      <td>{'hashtags': [{'text': 'Brazil', 'indices': [4...</td>\n",
       "      <td>{'iso_language_code': 'pt', 'result_type': 're...</td>\n",
       "      <td>&lt;a href=\"http://twitter.com/download/android\" ...</td>\n",
       "      <td>NaN</td>\n",
       "      <td>None</td>\n",
       "      <td>...</td>\n",
       "      <td>{'id': 1256386584892538880, 'id_str': '1256386...</td>\n",
       "      <td>None</td>\n",
       "      <td>None</td>\n",
       "      <td>None</td>\n",
       "      <td>None</td>\n",
       "      <td>False</td>\n",
       "      <td>0</td>\n",
       "      <td>0</td>\n",
       "      <td>False</td>\n",
       "      <td>False</td>\n",
       "    </tr>\n",
       "    <tr>\n",
       "      <th>1</th>\n",
       "      <td>Sat Nov 05 00:07:04 +0000 2022</td>\n",
       "      <td>1588684285900632065</td>\n",
       "      <td>1588684285900632065</td>\n",
       "      <td>Essa eleição tá mais emocionante que muitas sé...</td>\n",
       "      <td>False</td>\n",
       "      <td>{'hashtags': [{'text': 'Eleicoes2022', 'indice...</td>\n",
       "      <td>{'iso_language_code': 'pt', 'result_type': 're...</td>\n",
       "      <td>&lt;a href=\"http://twitter.com/download/android\" ...</td>\n",
       "      <td>NaN</td>\n",
       "      <td>None</td>\n",
       "      <td>...</td>\n",
       "      <td>{'id': 1266562554203123712, 'id_str': '1266562...</td>\n",
       "      <td>None</td>\n",
       "      <td>None</td>\n",
       "      <td>None</td>\n",
       "      <td>None</td>\n",
       "      <td>False</td>\n",
       "      <td>0</td>\n",
       "      <td>1</td>\n",
       "      <td>False</td>\n",
       "      <td>False</td>\n",
       "    </tr>\n",
       "    <tr>\n",
       "      <th>2</th>\n",
       "      <td>Sat Nov 05 00:06:47 +0000 2022</td>\n",
       "      <td>1588684213968318464</td>\n",
       "      <td>1588684213968318464</td>\n",
       "      <td>@daddy__coder Os CDNs estão ativos. Baixa pelo...</td>\n",
       "      <td>True</td>\n",
       "      <td>{'hashtags': [], 'symbols': [], 'user_mentions...</td>\n",
       "      <td>{'iso_language_code': 'pt', 'result_type': 're...</td>\n",
       "      <td>&lt;a href=\"https://mobile.twitter.com\" rel=\"nofo...</td>\n",
       "      <td>1.588684e+18</td>\n",
       "      <td>1588683753005514753</td>\n",
       "      <td>...</td>\n",
       "      <td>{'id': 16716289, 'id_str': '16716289', 'name':...</td>\n",
       "      <td>None</td>\n",
       "      <td>None</td>\n",
       "      <td>None</td>\n",
       "      <td>None</td>\n",
       "      <td>False</td>\n",
       "      <td>0</td>\n",
       "      <td>1</td>\n",
       "      <td>False</td>\n",
       "      <td>False</td>\n",
       "    </tr>\n",
       "    <tr>\n",
       "      <th>3</th>\n",
       "      <td>Sat Nov 05 00:06:28 +0000 2022</td>\n",
       "      <td>1588684131873226752</td>\n",
       "      <td>1588684131873226752</td>\n",
       "      <td>Pode dar o título da Copa do Mundo para a Arge...</td>\n",
       "      <td>False</td>\n",
       "      <td>{'hashtags': [{'text': 'BrazilWasStolen', 'ind...</td>\n",
       "      <td>{'iso_language_code': 'pt', 'result_type': 're...</td>\n",
       "      <td>&lt;a href=\"https://mobile.twitter.com\" rel=\"nofo...</td>\n",
       "      <td>NaN</td>\n",
       "      <td>None</td>\n",
       "      <td>...</td>\n",
       "      <td>{'id': 1550626238808612865, 'id_str': '1550626...</td>\n",
       "      <td>None</td>\n",
       "      <td>None</td>\n",
       "      <td>None</td>\n",
       "      <td>None</td>\n",
       "      <td>False</td>\n",
       "      <td>0</td>\n",
       "      <td>0</td>\n",
       "      <td>False</td>\n",
       "      <td>False</td>\n",
       "    </tr>\n",
       "    <tr>\n",
       "      <th>4</th>\n",
       "      <td>Sat Nov 05 00:06:26 +0000 2022</td>\n",
       "      <td>1588684124667383809</td>\n",
       "      <td>1588684124667383809</td>\n",
       "      <td>Quero ver esse mesmo entusiasmo das eleições n...</td>\n",
       "      <td>False</td>\n",
       "      <td>{'hashtags': [{'text': 'CopadoMundo', 'indices...</td>\n",
       "      <td>{'iso_language_code': 'pt', 'result_type': 're...</td>\n",
       "      <td>&lt;a href=\"http://twitter.com/download/android\" ...</td>\n",
       "      <td>NaN</td>\n",
       "      <td>None</td>\n",
       "      <td>...</td>\n",
       "      <td>{'id': 1266562554203123712, 'id_str': '1266562...</td>\n",
       "      <td>None</td>\n",
       "      <td>None</td>\n",
       "      <td>None</td>\n",
       "      <td>None</td>\n",
       "      <td>False</td>\n",
       "      <td>0</td>\n",
       "      <td>1</td>\n",
       "      <td>False</td>\n",
       "      <td>False</td>\n",
       "    </tr>\n",
       "  </tbody>\n",
       "</table>\n",
       "<p>5 rows × 23 columns</p>\n",
       "</div>"
      ],
      "text/plain": [
       "                       created_at                   id               id_str  \\\n",
       "0  Sat Nov 05 00:07:05 +0000 2022  1588684289268682752  1588684289268682752   \n",
       "1  Sat Nov 05 00:07:04 +0000 2022  1588684285900632065  1588684285900632065   \n",
       "2  Sat Nov 05 00:06:47 +0000 2022  1588684213968318464  1588684213968318464   \n",
       "3  Sat Nov 05 00:06:28 +0000 2022  1588684131873226752  1588684131873226752   \n",
       "4  Sat Nov 05 00:06:26 +0000 2022  1588684124667383809  1588684124667383809   \n",
       "\n",
       "                                                text  truncated  \\\n",
       "0  O ritmo dessa sexta já sabe né?\\nTango!\\n\\n#Br...      False   \n",
       "1  Essa eleição tá mais emocionante que muitas sé...      False   \n",
       "2  @daddy__coder Os CDNs estão ativos. Baixa pelo...       True   \n",
       "3  Pode dar o título da Copa do Mundo para a Arge...      False   \n",
       "4  Quero ver esse mesmo entusiasmo das eleições n...      False   \n",
       "\n",
       "                                            entities  \\\n",
       "0  {'hashtags': [{'text': 'Brazil', 'indices': [4...   \n",
       "1  {'hashtags': [{'text': 'Eleicoes2022', 'indice...   \n",
       "2  {'hashtags': [], 'symbols': [], 'user_mentions...   \n",
       "3  {'hashtags': [{'text': 'BrazilWasStolen', 'ind...   \n",
       "4  {'hashtags': [{'text': 'CopadoMundo', 'indices...   \n",
       "\n",
       "                                            metadata  \\\n",
       "0  {'iso_language_code': 'pt', 'result_type': 're...   \n",
       "1  {'iso_language_code': 'pt', 'result_type': 're...   \n",
       "2  {'iso_language_code': 'pt', 'result_type': 're...   \n",
       "3  {'iso_language_code': 'pt', 'result_type': 're...   \n",
       "4  {'iso_language_code': 'pt', 'result_type': 're...   \n",
       "\n",
       "                                              source  in_reply_to_status_id  \\\n",
       "0  <a href=\"http://twitter.com/download/android\" ...                    NaN   \n",
       "1  <a href=\"http://twitter.com/download/android\" ...                    NaN   \n",
       "2  <a href=\"https://mobile.twitter.com\" rel=\"nofo...           1.588684e+18   \n",
       "3  <a href=\"https://mobile.twitter.com\" rel=\"nofo...                    NaN   \n",
       "4  <a href=\"http://twitter.com/download/android\" ...                    NaN   \n",
       "\n",
       "  in_reply_to_status_id_str  ...  \\\n",
       "0                      None  ...   \n",
       "1                      None  ...   \n",
       "2       1588683753005514753  ...   \n",
       "3                      None  ...   \n",
       "4                      None  ...   \n",
       "\n",
       "                                                user   geo coordinates place  \\\n",
       "0  {'id': 1256386584892538880, 'id_str': '1256386...  None        None  None   \n",
       "1  {'id': 1266562554203123712, 'id_str': '1266562...  None        None  None   \n",
       "2  {'id': 16716289, 'id_str': '16716289', 'name':...  None        None  None   \n",
       "3  {'id': 1550626238808612865, 'id_str': '1550626...  None        None  None   \n",
       "4  {'id': 1266562554203123712, 'id_str': '1266562...  None        None  None   \n",
       "\n",
       "  contributors is_quote_status retweet_count favorite_count  favorited  \\\n",
       "0         None           False             0              0      False   \n",
       "1         None           False             0              1      False   \n",
       "2         None           False             0              1      False   \n",
       "3         None           False             0              0      False   \n",
       "4         None           False             0              1      False   \n",
       "\n",
       "   retweeted  \n",
       "0      False  \n",
       "1      False  \n",
       "2      False  \n",
       "3      False  \n",
       "4      False  \n",
       "\n",
       "[5 rows x 23 columns]"
      ]
     },
     "execution_count": 9,
     "metadata": {},
     "output_type": "execute_result"
    }
   ],
   "source": [
    "dfTweets = pd.DataFrame.from_dict(tweets_dict)\n",
    "dfTweets.head()"
   ]
  },
  {
   "cell_type": "markdown",
   "id": "07915620",
   "metadata": {},
   "source": [
    "# Removendo caracteres indesejados"
   ]
  },
  {
   "cell_type": "code",
   "execution_count": 10,
   "id": "76584cbe",
   "metadata": {},
   "outputs": [],
   "source": [
    "filehandler = open ('eleicoes.txt', 'wb')\n",
    "pc.dump (dfTweets['text'], filehandler)"
   ]
  },
  {
   "cell_type": "code",
   "execution_count": 11,
   "id": "29f3e297",
   "metadata": {},
   "outputs": [
    {
     "data": {
      "text/plain": [
       "(2387, 23)"
      ]
     },
     "execution_count": 11,
     "metadata": {},
     "output_type": "execute_result"
    }
   ],
   "source": [
    "dfTweets.shape"
   ]
  },
  {
   "cell_type": "code",
   "execution_count": 11,
   "id": "0167e502",
   "metadata": {},
   "outputs": [
    {
     "name": "stdout",
     "output_type": "stream",
     "text": [
      "2022-10-31 14:01:45+00:00\n",
      "Flamengo campeão no sábado e lula reeleito no domingo, esse final de semana foi muita festa pra comemorar 😂😂\n",
      "2022-10-31 14:01:45+00:00\n",
      "@FernandoHoliday Você também tem culpa na vitória do Lula. Pode ter certeza que o vídeos em que você berrava contra… https://t.co/WP7p8wKRYj\n",
      "2022-10-31 14:01:45+00:00\n",
      "@riberety @MarceloAdnet @SF_Moro Impediu o Lula de governar antes desse desgoverno desastroso, mas graças a Deus a justiça foi restaurada!\n",
      "2022-10-31 14:01:45+00:00\n",
      "@beatrizihp Gente acordaaa, já tá acontecendo, o próprio lula disse que ia limitar os meios de comunicação e vocês achando que é por acaso\n",
      "2022-10-31 14:01:45+00:00\n",
      "O marido enche o cu de droga e mete a mão no dinheiro dos outros mas ela vota 22 pq lula é ladrao 🤌🏼😂\n",
      "2022-10-31 14:01:45+00:00\n",
      "nossa o filho do lula mds faria horrores\n",
      "2022-10-31 14:01:45+00:00\n",
      "Será que ele sabe que o Lula é o novo presidente? Acho que vou ter que mandar mensagem para avisar😘\n",
      "2022-10-31 14:01:45+00:00\n",
      "@KhalkeionGenos @DarnelSugarfoo Klaus and Bill Gates have instructed Lula to turn off the power in Brazil. That's w… https://t.co/ufcY34vzlb\n",
      "2022-10-31 14:01:45+00:00\n",
      "@LeoArgonauta @educardinal Não foi boa avião do lula que acharam droga né, nem foi o vizinho do lula que matou a Marielle\n",
      "2022-10-31 14:01:45+00:00\n",
      "Oq está acontecendo com as pessoas?  Acabei de ler um post de uma pessoa que se diz de Deus desejando o mal de pess… https://t.co/dlGT4uvGxh\n"
     ]
    }
   ],
   "source": [
    "for tweet in cursor_tweets:\n",
    "    print(tweet.created_at)\n",
    "    print(tweet.text)"
   ]
  },
  {
   "cell_type": "code",
   "execution_count": 18,
   "id": "57fa5bce",
   "metadata": {},
   "outputs": [],
   "source": [
    "import re"
   ]
  },
  {
   "cell_type": "code",
   "execution_count": null,
   "id": "be462d3d",
   "metadata": {},
   "outputs": [],
   "source": []
  }
 ],
 "metadata": {
  "kernelspec": {
   "display_name": "Python 3.10.8 64-bit (microsoft store)",
   "language": "python",
   "name": "python3"
  },
  "language_info": {
   "codemirror_mode": {
    "name": "ipython",
    "version": 3
   },
   "file_extension": ".py",
   "mimetype": "text/x-python",
   "name": "python",
   "nbconvert_exporter": "python",
   "pygments_lexer": "ipython3",
   "version": "3.10.8"
  },
  "vscode": {
   "interpreter": {
    "hash": "774cb338ac24faab2cf1dff428ebfe16e5a32cfb18bd2ddfc77af83ab605770d"
   }
  }
 },
 "nbformat": 4,
 "nbformat_minor": 5
}
